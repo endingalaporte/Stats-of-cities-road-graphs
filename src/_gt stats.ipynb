{
 "cells": [
  {
   "cell_type": "code",
   "execution_count": 1,
   "id": "medium-church",
   "metadata": {},
   "outputs": [],
   "source": [
    "import numpy as np\n",
    "import csv\n",
    "import graph_tool as gt\n",
    "import pandas as pd\n",
    "\n",
    "import matplotlib.pyplot as plt\n",
    "import seaborn as sns\n",
    "\n",
    "import graph_tool.stats as gts"
   ]
  },
  {
   "cell_type": "code",
   "execution_count": 2,
   "id": "broke-instrumentation",
   "metadata": {
    "scrolled": false
   },
   "outputs": [],
   "source": [
    "#open edgelist from txt and plot it in graph_tool\n",
    "\n",
    "def string_to_list(string):\n",
    "    \"\"\"given a string of two elements, returns each element in a list\"\"\"\n",
    "    return [int(string.split(' ')[0]), int(string.split(' ')[1])]\n",
    "\n",
    "n = 136 #n cities\n",
    "\n",
    "#get dataset of graphs\n",
    "G_list = np.array([gt.Graph(directed = False) for i in range(n)], dtype = object)\n",
    "o_f = '/Users/endingalaporte/Desktop/cities_stats/input'\n",
    "for i in range(n):\n",
    "    open_path = o_f + \"/edgelist_city\"+str(i)+\".txt\"\n",
    "    text = open(open_path, 'r')\n",
    "    reader = csv.reader(text, delimiter='\\n')\n",
    "    elist = [string_to_list(row[0]) for row in reader]\n",
    "    G_list[i].add_edge_list(elist)\n",
    "    \n",
    "#read as many labels as their are graphs\n",
    "label_path = '/Users/endingalaporte/Desktop/cities_stats/input/country_binary.txt'\n",
    "text = open(label_path, encoding = 'utf-16')\n",
    "reader = csv.reader(text, delimiter='\\n')\n",
    "labels = np.array([int(row[0]) for row in reader])\n",
    "labels = labels[0:len(G_list)]\n",
    "\n",
    "#city names\n",
    "input_path = \"/Users/endingalaporte/Desktop/cities_stats/input\"\n",
    "with open(input_path + '/communes.txt'\n",
    "          , 'r') as f:\n",
    "    names = [line.strip() for line in f]"
   ]
  },
  {
   "cell_type": "code",
   "execution_count": 3,
   "id": "prime-money",
   "metadata": {},
   "outputs": [
    {
     "data": {
      "text/plain": [
       "(136, 6)"
      ]
     },
     "execution_count": 3,
     "metadata": {},
     "output_type": "execute_result"
    }
   ],
   "source": [
    "#compute stats for each graph\n",
    "n = len(G_list)\n",
    "\n",
    "def stats(G : gt.Graph):\n",
    "    \"\"\"given graph G, returns max, min and average degree, number of vertices and edges, graph density in an array\"\"\"\n",
    "    v_deg = []\n",
    "    for v in G.vertices():\n",
    "        v_deg.append(v.out_degree() + v.in_degree())\n",
    "    v_deg = np.array(v_deg)\n",
    "    n_v = len(tuple(G.vertices()))\n",
    "    n_e = len(tuple(G.edges()))\n",
    "    d = 2*n_e/(n_v*(n_v-1))\n",
    "    return np.array([v_deg.max(), v_deg.min(), v_deg.mean(), n_v, n_e, d])\n",
    "\n",
    "G_stats = []\n",
    "for g in G_list:\n",
    "    G_stats.append(stats(g))\n",
    "G_stats = np.array(G_stats)\n",
    "G_stats.shape"
   ]
  },
  {
   "cell_type": "code",
   "execution_count": null,
   "id": "according-yugoslavia",
   "metadata": {},
   "outputs": [],
   "source": []
  },
  {
   "cell_type": "code",
   "execution_count": 4,
   "id": "greek-driving",
   "metadata": {},
   "outputs": [
    {
     "name": "stderr",
     "output_type": "stream",
     "text": [
      "/Users/endingalaporte/Documents/python/miniconda3/envs/jupyternotebookenv/lib/python3.8/site-packages/seaborn/_decorators.py:36: FutureWarning: Pass the following variable as a keyword arg: x. From version 0.12, the only valid positional argument will be `data`, and passing other arguments without an explicit keyword will result in an error or misinterpretation.\n",
      "  warnings.warn(\n"
     ]
    },
    {
     "data": {
      "image/png": "[encoded data removed]",
      "text/plain": [
       "<Figure size 450x300 with 1 Axes>"
      ]
     },
     "metadata": {
      "needs_background": "light"
     },
     "output_type": "display_data"
    }
   ],
   "source": [
    "#max degrees\n",
    "output = \"/Users/endingalaporte/Desktop/cities_stats/output\"\n",
    "plt.figure(figsize = (3,2), dpi = 150)\n",
    "sns.boxplot(G_stats[:,0])\n",
    "plt.savefig(output + \"/boxplot_maxdeg.svg\")"
   ]
  },
  {
   "cell_type": "code",
   "execution_count": 5,
   "id": "interesting-package",
   "metadata": {},
   "outputs": [
    {
     "name": "stderr",
     "output_type": "stream",
     "text": [
      "/Users/endingalaporte/Documents/python/miniconda3/envs/jupyternotebookenv/lib/python3.8/site-packages/seaborn/_decorators.py:36: FutureWarning: Pass the following variable as a keyword arg: x. From version 0.12, the only valid positional argument will be `data`, and passing other arguments without an explicit keyword will result in an error or misinterpretation.\n",
      "  warnings.warn(\n"
     ]
    },
    {
     "data": {
      "image/png": "[encoded data removed]",
      "text/plain": [
       "<Figure size 450x300 with 1 Axes>"
      ]
     },
     "metadata": {
      "needs_background": "light"
     },
     "output_type": "display_data"
    }
   ],
   "source": [
    "#average degree\n",
    "plt.figure(figsize = (3,2), dpi = 150)\n",
    "sns.boxplot(G_stats[:,2])\n",
    "plt.savefig(output + \"/boxplot_avgdeg.svg\")"
   ]
  },
  {
   "cell_type": "code",
   "execution_count": 6,
   "id": "excessive-bernard",
   "metadata": {},
   "outputs": [
    {
     "name": "stderr",
     "output_type": "stream",
     "text": [
      "/Users/endingalaporte/Documents/python/miniconda3/envs/jupyternotebookenv/lib/python3.8/site-packages/seaborn/_decorators.py:36: FutureWarning: Pass the following variable as a keyword arg: x. From version 0.12, the only valid positional argument will be `data`, and passing other arguments without an explicit keyword will result in an error or misinterpretation.\n",
      "  warnings.warn(\n"
     ]
    },
    {
     "data": {
      "image/png": "[encoded data removed]",
      "text/plain": [
       "<Figure size 1050x300 with 1 Axes>"
      ]
     },
     "metadata": {
      "needs_background": "light"
     },
     "output_type": "display_data"
    }
   ],
   "source": [
    "#graph density\n",
    "plt.figure(figsize = (7,2), dpi = 150)\n",
    "sns.boxplot(G_stats[:,5])\n",
    "plt.savefig(output + \"/boxplot_graphdensity.svg\")"
   ]
  },
  {
   "cell_type": "code",
   "execution_count": 7,
   "id": "sweet-preliminary",
   "metadata": {},
   "outputs": [
    {
     "name": "stdout",
     "output_type": "stream",
     "text": [
      "Paris\n"
     ]
    },
    {
     "data": {
      "text/plain": [
       "(array([110, 131]),)"
      ]
     },
     "execution_count": 7,
     "metadata": {},
     "output_type": "execute_result"
    }
   ],
   "source": [
    "#find which city id has highest max degree\n",
    "    \n",
    "index = np.where(G_stats[:,0] == G_stats[:,0].max())[0][0]\n",
    "print(names[index])\n",
    "\n",
    "#average of the mean degree of each graph\n",
    "G_stats[:,2].mean()\n",
    "\n",
    "#cities with lowest highest degree are chinese cities, we can imagine they are grid like\n",
    "np.where(G_stats[:,0] == 4)"
   ]
  }
 ],
 "metadata": {
  "kernelspec": {
   "display_name": "Python 3",
   "language": "python",
   "name": "python3"
  },
  "language_info": {
   "codemirror_mode": {
    "name": "ipython",
    "version": 3
   },
   "file_extension": ".py",
   "mimetype": "text/x-python",
   "name": "python",
   "nbconvert_exporter": "python",
   "pygments_lexer": "ipython3",
   "version": "3.8.5"
  }
 },
 "nbformat": 4,
 "nbformat_minor": 5
}
